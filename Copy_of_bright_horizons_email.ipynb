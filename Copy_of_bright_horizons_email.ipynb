{
  "nbformat": 4,
  "nbformat_minor": 0,
  "metadata": {
    "colab": {
      "name": "Copy of bright horizons email.ipynb",
      "provenance": [],
      "collapsed_sections": [],
      "include_colab_link": true
    },
    "kernelspec": {
      "name": "python3",
      "display_name": "Python 3"
    }
  },
  "cells": [
    {
      "cell_type": "markdown",
      "metadata": {
        "id": "view-in-github",
        "colab_type": "text"
      },
      "source": [
        "<a href=\"https://colab.research.google.com/github/xavigonzalvo/bright_horizon_checkin/blob/master/Copy_of_bright_horizons_email.ipynb\" target=\"_parent\"><img src=\"https://colab.research.google.com/assets/colab-badge.svg\" alt=\"Open In Colab\"/></a>"
      ]
    },
    {
      "cell_type": "code",
      "metadata": {
        "id": "psIIRgnmVDQ9",
        "colab_type": "code",
        "outputId": "38523476-0b00-42ec-ad51-51131927f4a4",
        "colab": {
          "base_uri": "https://localhost:8080/",
          "height": 122
        }
      },
      "source": [
        "from google.colab import drive\n",
        "drive.mount('/content/drive')"
      ],
      "execution_count": 2,
      "outputs": [
        {
          "output_type": "stream",
          "text": [
            "Go to this URL in a browser: https://accounts.google.com/o/oauth2/auth?client_id=947318989803-6bn6qk8qdgf4n4g3pfee6491hc0brc4i.apps.googleusercontent.com&redirect_uri=urn%3aietf%3awg%3aoauth%3a2.0%3aoob&response_type=code&scope=email%20https%3a%2f%2fwww.googleapis.com%2fauth%2fdocs.test%20https%3a%2f%2fwww.googleapis.com%2fauth%2fdrive%20https%3a%2f%2fwww.googleapis.com%2fauth%2fdrive.photos.readonly%20https%3a%2f%2fwww.googleapis.com%2fauth%2fpeopleapi.readonly\n",
            "\n",
            "Enter your authorization code:\n",
            "··········\n",
            "Mounted at /content/drive\n"
          ],
          "name": "stdout"
        }
      ]
    },
    {
      "cell_type": "code",
      "metadata": {
        "id": "JQguMXaxVKmJ",
        "colab_type": "code",
        "colab": {}
      },
      "source": [
        "import json\n",
        "import datetime\n",
        "import pandas as pd"
      ],
      "execution_count": 0,
      "outputs": []
    },
    {
      "cell_type": "code",
      "metadata": {
        "id": "IDKr_L79VMRZ",
        "colab_type": "code",
        "colab": {}
      },
      "source": [
        "with open('drive/My Drive/email.json') as json_file:\n",
        "  data = json.load(json_file)"
      ],
      "execution_count": 0,
      "outputs": []
    },
    {
      "cell_type": "code",
      "metadata": {
        "id": "_swC8VC7VW_4",
        "colab_type": "code",
        "colab": {}
      },
      "source": [
        "check_ins = []\n",
        "for user, times in data.items():\n",
        "  for time in times:\n",
        "    hour = int(time[0])\n",
        "    if hour < 8:\n",
        "      continue\n",
        "    timestamp = datetime.datetime(year=2019, month=1, day=1,\n",
        "                                  hour=hour,\n",
        "                                  minute=int(time[1]))\n",
        "    check_ins.append((user, timestamp))\n",
        "df = pd.DataFrame(check_ins, columns=['Name', 'Timestamp'])"
      ],
      "execution_count": 0,
      "outputs": []
    },
    {
      "cell_type": "code",
      "metadata": {
        "id": "lhbkrACyXprY",
        "colab_type": "code",
        "outputId": "9fb2c31a-e48b-4941-d88c-e3f579088e5a",
        "colab": {
          "base_uri": "https://localhost:8080/",
          "height": 718
        }
      },
      "source": [
        "# Setting the date as the index since the TimeGrouper works on Index, the date\n",
        "# column is not dropped to be able to count.\n",
        "df.set_index('Timestamp', drop=False, inplace=True)\n",
        "# Getting the histogram.\n",
        "freq = '5Min'\n",
        "count_parent_a = df.loc[df['Name'] == 'parent_a'].groupby(pd.Grouper(freq=freq)).count()\n",
        "count_parent_a = count_parent_a.drop(columns='Name').rename(columns={'Timestamp': 'parent_a'}).reset_index()\n",
        "\n",
        "count_parent_b = df.loc[df['Name'] == 'parent_b'].groupby(pd.Grouper(freq=freq)).count()\n",
        "count_parent_b = count_parent_b.drop(columns='Name').rename(columns={'Timestamp': 'parent_b'}).reset_index()\n",
        "\n",
        "gg = count_parent_b.merge(count_parent_a, how='outer').fillna(0).astype({'parent_a': 'int32'},\n",
        "                                                                        {'parent_b': 'int32'})\n",
        "gg.set_index('Timestamp', drop=False, inplace=True)\n",
        "gg.drop(columns='Timestamp', inplace=True)\n",
        "gg.plot(kind='bar', figsize=(10, 10))"
      ],
      "execution_count": 8,
      "outputs": [
        {
          "output_type": "execute_result",
          "data": {
            "text/plain": [
              "<matplotlib.axes._subplots.AxesSubplot at 0x7f734d76a5c0>"
            ]
          },
          "metadata": {
            "tags": []
          },
          "execution_count": 8
        },
        {
          "output_type": "display_data",
          "data": {
            "image/png": "[encoded data removed]",
            "text/plain": [
              "<Figure size 720x720 with 1 Axes>"
            ]
          },
          "metadata": {
            "tags": []
          }
        }
      ]
    },
    {
      "cell_type": "code",
      "metadata": {
        "id": "8O4fP2lrkEQ_",
        "colab_type": "code",
        "colab": {}
      },
      "source": [
        "print('parent_a', df.loc[df['Name'] == 'parent_a']['Timestamp'].mean(axis=0).strftime(\"%H:%M\"))\n",
        "print('parent_b', df.loc[df['Name'] == 'parent_b']['Timestamp'].mean(axis=0).strftime(\"%H:%M\"))"
      ],
      "execution_count": 0,
      "outputs": []
    }
  ]
}